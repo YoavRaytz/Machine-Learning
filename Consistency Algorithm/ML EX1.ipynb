{
 "cells": [
  {
   "cell_type": "markdown",
   "metadata": {},
   "source": [
    "# EX 1 - \n",
    "In this part you will implement the Consistency Algorithm for the task of online\n",
    "boolean conjunction prediction. Given training examples and their classification, \n",
    "stored in a text file, and using the implemented algorithm you are expected\n",
    "to predict the boolean conjunction correctly."
   ]
  },
  {
   "cell_type": "code",
   "execution_count": 1,
   "metadata": {},
   "outputs": [],
   "source": [
    "import numpy as np"
   ]
  },
  {
   "cell_type": "markdown",
   "metadata": {},
   "source": [
    "# Load the data"
   ]
  },
  {
   "cell_type": "code",
   "execution_count": 4,
   "metadata": {},
   "outputs": [
    {
     "data": {
      "text/plain": [
       "array([[0., 1., 1., 0., 0.],\n",
       "       [1., 0., 0., 1., 1.],\n",
       "       [0., 1., 0., 1., 1.]])"
      ]
     },
     "execution_count": 4,
     "metadata": {},
     "output_type": "execute_result"
    }
   ],
   "source": [
    "training_examples = np.loadtxt(\"data.txt\")\n",
    "training_examples"
   ]
  },
  {
   "cell_type": "code",
   "execution_count": 5,
   "metadata": {},
   "outputs": [
    {
     "name": "stdout",
     "output_type": "stream",
     "text": [
      "x0 not x0 x1 not x1 x2 not x2,\n",
      "x0 not x1 not x2,\n",
      "not x0 x1 not x2,\n",
      "\n"
     ]
    }
   ],
   "source": [
    "\n",
    "def main():\n",
    "    training_examples = np.loadtxt(\"data.txt\")\n",
    "    X=training_examples[:,0:-2]\n",
    "    y=training_examples[:,-1]\n",
    "    all_hypotheses=[]\n",
    "    for actual_Y,hypothesis in zip(y,X):\n",
    "        prediction_Y=0\n",
    "        all_negative_hypothesis=[1 if i%2==0 else 0 for i in range(len(hypothesis)*2)]\n",
    "        if(actual_Y==1 and prediction_Y==0):\n",
    "            for i,literals in enumerate(hypothesis):\n",
    "                if(literals==1):\n",
    "                    all_negative_hypothesis[i*2+1]=-1\n",
    "                if(literals==0):\n",
    "                    all_negative_hypothesis[i*2]=-1\n",
    "        all_hypotheses.append(all_negative_hypothesis)\n",
    "    sentence=\"\"\n",
    "    for hypothesis in all_hypotheses:\n",
    "        variable_index,manual_counter=0,0\n",
    "        for itr in hypothesis:\n",
    "            if(itr==1):\n",
    "                sentence+=\"x{0} \".format(variable_index)\n",
    "            if(itr==0):\n",
    "                sentence+=\"not x{0} \".format(variable_index)\n",
    "            manual_counter+=1\n",
    "            if(manual_counter==2):\n",
    "                variable_index+=1\n",
    "                manual_counter=0\n",
    "        sentence=sentence.rstrip()\n",
    "        sentence+= \",\\n\"\n",
    "        \n",
    "    print(sentence)\n",
    "    with open(\"output.txt\",\"w\") as f:\n",
    "        f.write(\"{0}\".format(sentence))     \n",
    "\n",
    "if(__name__==\"__main__\"):\n",
    "    main()"
   ]
  },
  {
   "cell_type": "code",
   "execution_count": null,
   "metadata": {},
   "outputs": [],
   "source": []
  }
 ],
 "metadata": {
  "kernelspec": {
   "display_name": "Python 3",
   "language": "python",
   "name": "python3"
  },
  "language_info": {
   "codemirror_mode": {
    "name": "ipython",
    "version": 3
   },
   "file_extension": ".py",
   "mimetype": "text/x-python",
   "name": "python",
   "nbconvert_exporter": "python",
   "pygments_lexer": "ipython3",
   "version": "3.7.7"
  }
 },
 "nbformat": 4,
 "nbformat_minor": 4
}
