{
 "cells": [
  {
   "cell_type": "markdown",
   "metadata": {},
   "source": [
    "# EX 3 -\n",
    "In this exercise you will implement your first word recognizer using the KNN\n",
    "algorithm. Your algorithm will recognize the digits 1 - 5. For that, You will\n",
    "implement the KNN algorithm, where the distance metric should be the L2."
   ]
  },
  {
   "cell_type": "code",
   "execution_count": 3,
   "metadata": {},
   "outputs": [
    {
     "name": "stdout",
     "output_type": "stream",
     "text": [
      "Collecting librosa\n",
      "  Downloading librosa-0.8.0.tar.gz (183 kB)\n",
      "Collecting audioread>=2.0.0\n",
      "  Downloading audioread-2.1.8.tar.gz (21 kB)\n",
      "Requirement already satisfied: numpy>=1.15.0 in c:\\users\\yoav_\\miniconda3\\lib\\site-packages (from librosa) (1.19.0)\n",
      "Collecting scipy>=1.0.0\n",
      "  Downloading scipy-1.5.2-cp37-cp37m-win_amd64.whl (31.2 MB)\n",
      "Collecting scikit-learn!=0.19.0,>=0.14.0\n",
      "  Downloading scikit_learn-0.23.2-cp37-cp37m-win_amd64.whl (6.8 MB)\n",
      "Collecting joblib>=0.14\n",
      "  Downloading joblib-0.16.0-py3-none-any.whl (300 kB)\n",
      "Requirement already satisfied: decorator>=3.0.0 in c:\\users\\yoav_\\miniconda3\\lib\\site-packages (from librosa) (4.4.2)\n",
      "Collecting resampy>=0.2.2\n",
      "  Downloading resampy-0.2.2.tar.gz (323 kB)\n",
      "Collecting numba>=0.43.0\n",
      "  Downloading numba-0.51.0-cp37-cp37m-win_amd64.whl (2.2 MB)\n",
      "Collecting soundfile>=0.9.0\n",
      "  Downloading SoundFile-0.10.3.post1-py2.py3.cp26.cp27.cp32.cp33.cp34.cp35.cp36.pp27.pp32.pp33-none-win_amd64.whl (689 kB)\n",
      "Collecting pooch>=1.0\n",
      "  Downloading pooch-1.1.1-py3-none-any.whl (45 kB)\n",
      "Collecting threadpoolctl>=2.0.0\n",
      "  Downloading threadpoolctl-2.1.0-py3-none-any.whl (12 kB)\n",
      "Requirement already satisfied: six>=1.3 in c:\\users\\yoav_\\miniconda3\\lib\\site-packages (from resampy>=0.2.2->librosa) (1.15.0)\n",
      "Requirement already satisfied: setuptools in c:\\users\\yoav_\\miniconda3\\lib\\site-packages (from numba>=0.43.0->librosa) (49.2.0.post20200714)\n",
      "Collecting llvmlite<0.35,>=0.34.0.dev0\n",
      "  Downloading llvmlite-0.34.0-cp37-cp37m-win_amd64.whl (15.9 MB)\n",
      "Requirement already satisfied: cffi>=1.0 in c:\\users\\yoav_\\miniconda3\\lib\\site-packages (from soundfile>=0.9.0->librosa) (1.14.0)\n",
      "Requirement already satisfied: packaging in c:\\users\\yoav_\\miniconda3\\lib\\site-packages (from pooch>=1.0->librosa) (20.4)\n",
      "Requirement already satisfied: requests in c:\\users\\yoav_\\miniconda3\\lib\\site-packages (from pooch>=1.0->librosa) (2.24.0)\n",
      "Collecting appdirs\n",
      "  Downloading appdirs-1.4.4-py2.py3-none-any.whl (9.6 kB)\n",
      "Requirement already satisfied: pycparser in c:\\users\\yoav_\\miniconda3\\lib\\site-packages (from cffi>=1.0->soundfile>=0.9.0->librosa) (2.20)\n",
      "Requirement already satisfied: pyparsing>=2.0.2 in c:\\users\\yoav_\\miniconda3\\lib\\site-packages (from packaging->pooch>=1.0->librosa) (2.4.7)\n",
      "Requirement already satisfied: certifi>=2017.4.17 in c:\\users\\yoav_\\miniconda3\\lib\\site-packages (from requests->pooch>=1.0->librosa) (2020.6.20)\n",
      "Requirement already satisfied: chardet<4,>=3.0.2 in c:\\users\\yoav_\\miniconda3\\lib\\site-packages (from requests->pooch>=1.0->librosa) (3.0.4)\n",
      "Requirement already satisfied: idna<3,>=2.5 in c:\\users\\yoav_\\miniconda3\\lib\\site-packages (from requests->pooch>=1.0->librosa) (2.10)\n",
      "Requirement already satisfied: urllib3!=1.25.0,!=1.25.1,<1.26,>=1.21.1 in c:\\users\\yoav_\\miniconda3\\lib\\site-packages (from requests->pooch>=1.0->librosa) (1.25.9)\n",
      "Building wheels for collected packages: librosa, audioread, resampy\n",
      "  Building wheel for librosa (setup.py): started\n",
      "  Building wheel for librosa (setup.py): finished with status 'done'\n",
      "  Created wheel for librosa: filename=librosa-0.8.0-py3-none-any.whl size=201381 sha256=a02f2bfa2a15449127c00c7f3f72477c1d95fec9d00a9105afc2222531d8726f\n",
      "  Stored in directory: c:\\users\\yoav_\\appdata\\local\\pip\\cache\\wheels\\de\\1e\\aa\\d91797ae7e1ce11853ee100bee9d1781ae9d750e7458c95afb\n",
      "  Building wheel for audioread (setup.py): started\n",
      "  Building wheel for audioread (setup.py): finished with status 'done'\n",
      "  Created wheel for audioread: filename=audioread-2.1.8-py3-none-any.whl size=23095 sha256=a6c58b8e7f4fd99dcd30138f831cf68f3e2aefc7ac274ec92cd143743553d539\n",
      "  Stored in directory: c:\\users\\yoav_\\appdata\\local\\pip\\cache\\wheels\\cd\\85\\04\\704a589ef8773d1ec1393c4b271a023f929d85ef5317b12d8c\n",
      "  Building wheel for resampy (setup.py): started\n",
      "  Building wheel for resampy (setup.py): finished with status 'done'\n",
      "  Created wheel for resampy: filename=resampy-0.2.2-py3-none-any.whl size=320723 sha256=b71e5b152a9013d38ae2566bffc57b22ff2769782683f589edfbf45346c302ff\n",
      "  Stored in directory: c:\\users\\yoav_\\appdata\\local\\pip\\cache\\wheels\\a0\\18\\0a\\8ad18a597d8333a142c9789338a96a6208f1198d290ece356c\n",
      "Successfully built librosa audioread resampy\n",
      "Installing collected packages: audioread, scipy, joblib, threadpoolctl, scikit-learn, llvmlite, numba, resampy, soundfile, appdirs, pooch, librosa\n",
      "Successfully installed appdirs-1.4.4 audioread-2.1.8 joblib-0.16.0 librosa-0.8.0 llvmlite-0.34.0 numba-0.51.0 pooch-1.1.1 resampy-0.2.2 scikit-learn-0.23.2 scipy-1.5.2 soundfile-0.10.3.post1 threadpoolctl-2.1.0\n"
     ]
    }
   ],
   "source": [
    "!pip install librosa"
   ]
  },
  {
   "cell_type": "code",
   "execution_count": 4,
   "metadata": {},
   "outputs": [],
   "source": [
    "import numpy as np\n",
    "import librosa \n",
    "import glob\n",
    "from scipy import stats\n",
    "\n"
   ]
  },
  {
   "cell_type": "code",
   "execution_count": 5,
   "metadata": {},
   "outputs": [],
   "source": [
    "def readWAV(root_folder):\n",
    "    \"\"\"Read the .wav files from directory.\n",
    "        root folder: is the name of the the directory locate.\n",
    "        Return: list of paths for all the files.\"\"\"\n",
    "\n",
    "    wav_files=[]\n",
    "    if(root_folder==\"train_data\"):\n",
    "        for folder in glob.glob(\"ex3\\\\*\\\\*\\\\*.wav\"):\n",
    "            wav_files.append((getLabel(str(folder)),str(folder)))\n",
    "    else:\n",
    "        for folder in glob.glob(\"ex3\\\\*\\\\*.wav\"):\n",
    "            wav_files.append((getLabel(str(folder)),str(folder)))\n",
    "    return wav_files \n"
   ]
  },
  {
   "cell_type": "code",
   "execution_count": 6,
   "metadata": {},
   "outputs": [],
   "source": [
    "def getLabel(path):\n",
    "    \"\"\" The method is replaces the word with the number itself.\n",
    "        The word is part of the path.\"\"\"\n",
    "    if(\"five\" in path):\n",
    "        return \"5\"\n",
    "    if(\"four\" in path):\n",
    "        return \"4\"\n",
    "    if(\"one\" in path):\n",
    "        return \"1\"\n",
    "    if(\"three\" in path):\n",
    "        return \"3\"\n",
    "    if(\"two\" in path):\n",
    "        return \"2\"\n",
    "    return \"\"\n"
   ]
  },
  {
   "cell_type": "code",
   "execution_count": 7,
   "metadata": {},
   "outputs": [],
   "source": [
    "def get_ALL(root_folder):\n",
    "    \"\"\"The method get the root folder and matrix for each file:\n",
    "        [(label,file path), mfcc for the .wav file]\n",
    "        \"\"\"\n",
    "    tempL=readWAV(root_folder) #list of all paths\n",
    "    mfccMAT=[]\n",
    "    for file in tempL:\n",
    "        label=file[0]\n",
    "        file_path=file[1]\n",
    "        mfccMAT.append(((label,file_path),getMFCC(file_path)))\n",
    "    \n",
    "    return mfccMAT\n"
   ]
  },
  {
   "cell_type": "code",
   "execution_count": 8,
   "metadata": {},
   "outputs": [],
   "source": [
    "def calculateDistance(train_data,test_data,test):\n",
    "    \"\"\"The method calculate a euclidean distance for each test file aginst all the training data.\n",
    "        It create list sorted by euclidean distance. \n",
    "        train_data - list of files and mfcc of them \n",
    "        tset_data - one sample of test data\n",
    "        test - *optinal* test file name\"\"\"\n",
    "    distance=[]\n",
    "    for train in train_data:\n",
    "        label=train[0][0]\n",
    "        path=train[0][1]\n",
    "        distance.append(((label,path.split(\"\\\\\")[-1]),(test,norm(train[1],test_data))))\n",
    "    distance = sorted(distance,key=lambda x:x[1][1])\n",
    "    return distance\n"
   ]
  },
  {
   "cell_type": "code",
   "execution_count": 9,
   "metadata": {},
   "outputs": [],
   "source": [
    "def getMFCC(f_path):\n",
    "    y,sr=librosa.load(f_path,sr=None)\n",
    "    mfcc=librosa.feature.mfcc(y=y,sr=sr)\n",
    "    mfcc= stats.zscore(mfcc,axis=1)\n",
    "    return mfcc\n",
    "   "
   ]
  },
  {
   "cell_type": "code",
   "execution_count": 10,
   "metadata": {},
   "outputs": [],
   "source": [
    "def norm(a,b):\n",
    "    return np.linalg.norm(a-b)\n",
    "    "
   ]
  },
  {
   "cell_type": "code",
   "execution_count": 11,
   "metadata": {},
   "outputs": [],
   "source": [
    "from collections import Counter\n",
    "\n",
    "def most_common(lst):\n",
    "    data = Counter(lst)\n",
    "    return max(lst, key=data.get)\n",
    "\n",
    "def getKNNresults(norm,k):\n",
    "    \"\"\"The method find the most fre \"\"\"\n",
    "    results=[]\n",
    "    l=[]\n",
    "    for sample in norm:\n",
    "        l=[]\n",
    "        sentence=\"\"\n",
    "        for i in range(k):\n",
    "            l.append(int(sample[1][i][0][0]))\n",
    "        sentence=f\"{sample[0]} - {most_common(l)}\"\n",
    "        results.append(sentence)\n",
    "\n",
    "        \n",
    "    return results\n",
    "   "
   ]
  },
  {
   "cell_type": "code",
   "execution_count": 12,
   "metadata": {},
   "outputs": [],
   "source": [
    "def accuracy(knn_result,actual_labels):\n",
    "    totalCount=0\n",
    "    catchCount=0\n",
    "    for label in knn_result:\n",
    "        file_name,file_label=str(label).rsplit(\".wav\",1)\n",
    "        file_name=file_name+\".wav\"\n",
    "        realValue=actual_labels[f\"{file_name} \"] #get the real label taged for file\n",
    "        if(int(realValue)!=0):#label isn't tag as 0\n",
    "            totalCount+=1\n",
    "            if(\"Label was not decided\" not in file_label ):\n",
    "                if(int(file_label[-1])==int(realValue)):\n",
    "                    catchCount+=1\n",
    "    return(f\"total labels {totalCount} \\n matching labels {catchCount}\")\n"
   ]
  },
  {
   "cell_type": "code",
   "execution_count": 13,
   "metadata": {},
   "outputs": [],
   "source": [
    "def getActualLabels():\n",
    "    acutalLabels=[]\n",
    "    with open(\"prediction.txt\",\"r\") as file:\n",
    "        acutalLabels=file.read()\n",
    "    acutalLabels=acutalLabels.split(\"\\n\")\n",
    "    dicLabels={}\n",
    "    for label in acutalLabels:\n",
    "        file_name,file_label=str(label).rsplit(\"-\",1)\n",
    "        dicLabels[file_name]=file_label\n",
    "    return(dicLabels)\n"
   ]
  },
  {
   "cell_type": "code",
   "execution_count": 16,
   "metadata": {},
   "outputs": [],
   "source": [
    "def main():  \n",
    "    \n",
    "    train_data=get_ALL(\"train_data\")\n",
    "    test_data=readWAV(\"test_data\")\n",
    "    euclidean_distance=[]\n",
    "    knn=5\n",
    "\n",
    "    for test in test_data:\n",
    "        euclidean_distance.append((test[1].split(\"\\\\\")[-1], \n",
    "                                   calculateDistance(train_data, \n",
    "                                                     getMFCC(test[1]), \n",
    "                                                     test)))\n",
    "\n",
    "    l=getKNNresults(euclidean_distance,knn)\n",
    "\n",
    "    with open(\"output.txt\",\"w+\") as file:\n",
    "        file.write(\"\\n\".join(str(item) for item in l))\n",
    "        file.write(\"\\n____________________ \\n\")\n",
    "        file.write((str(accuracy(l, getActualLabels()))))\n",
    "        \n",
    "if(__name__ == \"main\"):\n",
    "    main()\n"
   ]
  },
  {
   "cell_type": "code",
   "execution_count": null,
   "metadata": {},
   "outputs": [],
   "source": []
  }
 ],
 "metadata": {
  "kernelspec": {
   "display_name": "Python 3",
   "language": "python",
   "name": "python3"
  },
  "language_info": {
   "codemirror_mode": {
    "name": "ipython",
    "version": 3
   },
   "file_extension": ".py",
   "mimetype": "text/x-python",
   "name": "python",
   "nbconvert_exporter": "python",
   "pygments_lexer": "ipython3",
   "version": "3.7.7"
  }
 },
 "nbformat": 4,
 "nbformat_minor": 4
}
